{
  "nbformat": 4,
  "nbformat_minor": 0,
  "metadata": {
    "colab": {
      "name": "Projet.ipynb",
      "private_outputs": true,
      "provenance": [],
      "authorship_tag": "ABX9TyNdjs8j449PcPn3uvMvUUxs",
      "include_colab_link": true
    },
    "kernelspec": {
      "name": "python3",
      "display_name": "Python 3"
    },
    "language_info": {
      "name": "python"
    }
  },
  "cells": [
    {
      "cell_type": "markdown",
      "metadata": {
        "id": "view-in-github",
        "colab_type": "text"
      },
      "source": [
        "<a href=\"https://colab.research.google.com/github/NevanioNazario/EASI651/blob/main/Projet.ipynb\" target=\"_parent\"><img src=\"https://colab.research.google.com/assets/colab-badge.svg\" alt=\"Open In Colab\"/></a>"
      ]
    },
    {
      "cell_type": "code",
      "execution_count": null,
      "metadata": {
        "id": "h3UeFTzYA6Rw"
      },
      "outputs": [],
      "source": [
        "import numpy as np\n",
        "import matplotlib.pyplot as plt\n",
        "from scipy.integrate import ode\n",
        "from mpl_toolkits.mplot3d import Axes3D"
      ]
    },
    {
      "cell_type": "code",
      "source": [
        "earth_radius = 6378 # km\n",
        "earth_mu = 398600 # km^3/s^2\n",
        "\n",
        "def plot(r):\n",
        "  # 3D plot\n",
        "  fig = plt.figure(figsize=(10,10))\n",
        "  ax = fig.add_subplot(111,projection='3d')\n",
        "\n",
        "  # plot trajectory an starting point\n",
        "  ax.plot(r[:,0],r[:,1],r[:,2], 'k')\n",
        "  ax.plot(r[0,0],r[0,1],r[0,2], 'ko')\n",
        "\n",
        "  r_plot = earth_radius\n",
        "\n",
        "  # plot earth\n",
        "  _u,_v = np.mgrid[0:2*np.pi:20j,0:np.pi:10j]\n",
        "  _x = r_plot*np.cos(_u)*np.sin(_v)  \n",
        "  _y = r_plot*np.sin(_u)*np.sin(_v)  \n",
        "  _z = r_plot*np.cos(_u)\n",
        "  ax.plot_surface(_x,_y,_z, cmap = 'Blues')\n",
        "\n",
        "  l = r_plot*2\n",
        "  x,y,z = [[0,0,0],[0,0,0],[0,0,0]]\n",
        "  u,v,w = [[1,0,0],[0,1,0],[0,0,1]]\n",
        "  ax.quiver(x,y,z,u,v,w,color='k')\n",
        "\n",
        "  # check for custom axes limits\n",
        "  max_val = max(np.abs(r))\n",
        "\n",
        "  # set labels and title\n",
        "  ax.set_xlim([-max_val,max_val]); ax.set_ylim([-max_val,max_val]); ax.set_zlim([-max_val,max_val])\n",
        "  ax.set_xlabel('x (km)'); ax.set_ylabel('y (km)'); ax.set_zlabel('z (km)')\n",
        "  ax.set_aspect('equal')\n",
        "  #ax.plot_title()\n",
        "  plt.legend(['Trajectory','Starting Position'])\n",
        "\n",
        "  plt.show()\n",
        "\n",
        "def diffy_q(t,y,mu):\n",
        "  # unpack state\n",
        "  rx, ry, rz, vx, vy, vz = y\n",
        "  r = np.array([rx,ry,rz])\n",
        "\n",
        "  # norm of the radius vector\n",
        "  norm_r = np.linalg.norm(r)\n",
        "\n",
        "  # two body acceleration\n",
        "  ax, ay, az = -r*mu/norm_r**3\n",
        "\n",
        "  return [vx,vy,vz,ax,ay,az]"
      ],
      "metadata": {
        "id": "hizGSjJcBCKJ"
      },
      "execution_count": null,
      "outputs": []
    },
    {
      "cell_type": "code",
      "source": [
        "if __name__=='__main__':\n",
        "  # initial conditions of orbit parameters\n",
        "  r_mag = earth_radius+500 # km\n",
        "  v_mag = np.sqrt(earth_mu/r_mag) # km/s\n",
        "\n",
        "  # initial position and velocity vectors\n",
        "  r0 = [r_mag,0,0]\n",
        "  v0 = [0,v_mag,0]\n",
        "\n",
        "  # timespan\n",
        "  tspan = 100*60\n",
        "\n",
        "  # timestep\n",
        "  dt = 100\n",
        "\n",
        "  # total number of steps\n",
        "  n_steps = int(np.ceil(tspan/dt))\n",
        "\n",
        "  # initialize arrays\n",
        "  ys = np.zeros((n_steps,6))\n",
        "  ts = np.zeros((n_steps,1))\n",
        "\n",
        "  # initial conditions\n",
        "  y0 = r0+v0\n",
        "  ys[0] = np.array(y0)\n",
        "  step = 1\n",
        "\n",
        "  # initiate solver\n",
        "  solver = ode(diffy_q)\n",
        "  solver.set_integrator('lsoda')\n",
        "  solver.set_initial_value(y0,0)\n",
        "  solver.set_f_params(earth_mu)\n",
        "\n",
        "  # propagate orbit\n",
        "  while solver.successful() and step<n_steps:\n",
        "    solver.integrate(solver.t+dt)\n",
        "    ts[step] = solver.t\n",
        "    ys[step] = solver.y\n",
        "    step += 1\n",
        "\n",
        "  rs = ys[:,:3]\n",
        "\n",
        "  plot(rs)"
      ],
      "metadata": {
        "id": "3QZBcjjmC0VS"
      },
      "execution_count": null,
      "outputs": []
    }
  ]
}